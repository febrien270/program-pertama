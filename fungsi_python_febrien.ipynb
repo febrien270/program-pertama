{
  "nbformat": 4,
  "nbformat_minor": 0,
  "metadata": {
    "colab": {
      "provenance": []
    },
    "kernelspec": {
      "name": "python3",
      "display_name": "Python 3"
    },
    "language_info": {
      "name": "python"
    }
  },
  "cells": [
    {
      "cell_type": "code",
      "execution_count": 1,
      "metadata": {
        "id": "1tzusXYIZWro"
      },
      "outputs": [],
      "source": [
        "#membuat fungsi\n",
        "def salam():\n",
        "  print (\"hello, ini lala\")"
      ]
    },
    {
      "cell_type": "code",
      "source": [
        "salam()\n",
        "salam()\n",
        "salam()"
      ],
      "metadata": {
        "colab": {
          "base_uri": "https://localhost:8080/"
        },
        "id": "nmD2RlFIcBaB",
        "outputId": "8018a537-cade-4e6e-afd0-e23d9f3adf25"
      },
      "execution_count": 2,
      "outputs": [
        {
          "output_type": "stream",
          "name": "stdout",
          "text": [
            "hello, ini lala\n",
            "hello, ini lala\n",
            "hello, ini lala\n"
          ]
        }
      ]
    },
    {
      "cell_type": "code",
      "source": [
        "def salam(ucapan):\n",
        "  print(ucapan)\n",
        "salam(\"selamat siang lala\")"
      ],
      "metadata": {
        "colab": {
          "base_uri": "https://localhost:8080/"
        },
        "id": "8kNbojlpcKr3",
        "outputId": "fb8d91b4-541f-4841-d2cb-bb6d0821ad30"
      },
      "execution_count": 5,
      "outputs": [
        {
          "output_type": "stream",
          "name": "stdout",
          "text": [
            "selamat siang lala\n"
          ]
        }
      ]
    },
    {
      "cell_type": "code",
      "source": [
        "def luas_segitiga(alas, tinggi):\n",
        "    luas = (alas * tinggi) / 2\n",
        "    print (\"luas segitiga: %f\" % luas)"
      ],
      "metadata": {
        "id": "Z6_JRlRhcWtE"
      },
      "execution_count": 7,
      "outputs": []
    },
    {
      "cell_type": "code",
      "source": [
        "luas_segitiga(5, 6)"
      ],
      "metadata": {
        "colab": {
          "base_uri": "https://localhost:8080/"
        },
        "id": "NTHAeR7qdFLH",
        "outputId": "9e425e12-0e56-45da-99ff-af36382d7d34"
      },
      "execution_count": 8,
      "outputs": [
        {
          "output_type": "stream",
          "name": "stdout",
          "text": [
            "luas segitiga: 15.000000\n"
          ]
        }
      ]
    },
    {
      "cell_type": "code",
      "source": [
        "def luas_persegi(sisi):\n",
        "    luas = sisi * sisi\n",
        "    return luas"
      ],
      "metadata": {
        "id": "vOIwrinLdXuq"
      },
      "execution_count": 9,
      "outputs": []
    },
    {
      "cell_type": "code",
      "source": [
        " print (\"luas persegi: %d\" % luas_persegi(6))"
      ],
      "metadata": {
        "colab": {
          "base_uri": "https://localhost:8080/"
        },
        "id": "JnzAmVljdrZs",
        "outputId": "2e7b40e8-17fc-4094-aded-0c02a5734e4f"
      },
      "execution_count": 10,
      "outputs": [
        {
          "output_type": "stream",
          "name": "stdout",
          "text": [
            "luas persegi: 36\n"
          ]
        }
      ]
    },
    {
      "cell_type": "code",
      "source": [
        "nama = \"belajar kode\"\n",
        "versi = \"1.0.0\"\n",
        "\n",
        "def help():\n",
        "    nama = \"programku\"\n",
        "    versi = \"1.0.1\"\n",
        "\n",
        "    print (\"nama: %s\" % nama)\n",
        "    print (\"versi: %s\" % versi)\n"
      ],
      "metadata": {
        "id": "2VQkBlEEfL9C"
      },
      "execution_count": 12,
      "outputs": []
    },
    {
      "cell_type": "code",
      "source": [
        "print (\"nama: %s\" % nama)\n",
        "print (\"versi: %s\" % versi)"
      ],
      "metadata": {
        "colab": {
          "base_uri": "https://localhost:8080/"
        },
        "id": "RHtzZ6nTgBRl",
        "outputId": "9dd2505e-a4b4-4636-86a2-2604b211a622"
      },
      "execution_count": 13,
      "outputs": [
        {
          "output_type": "stream",
          "name": "stdout",
          "text": [
            "nama: belajar kode\n",
            "versi: 1.0.0\n"
          ]
        }
      ]
    },
    {
      "cell_type": "code",
      "source": [
        "help()"
      ],
      "metadata": {
        "colab": {
          "base_uri": "https://localhost:8080/"
        },
        "id": "qH5jo2CFgUcq",
        "outputId": "05114648-f3d1-4141-e05c-939056a055b9"
      },
      "execution_count": 14,
      "outputs": [
        {
          "output_type": "stream",
          "name": "stdout",
          "text": [
            "nama: programku\n",
            "versi: 1.0.1\n"
          ]
        }
      ]
    },
    {
      "cell_type": "code",
      "source": [
        "buku =[]"
      ],
      "metadata": {
        "id": "B4HKAm_WzQIW"
      },
      "execution_count": 60,
      "outputs": []
    },
    {
      "cell_type": "code",
      "source": [
        "buku =[]\n",
        "def show_data():\n",
        "    if len(buku) <= 0:\n",
        "      print(\"belum ada data\")\n",
        "    else:\n",
        "      for indek in range (len(buku)):\n",
        "        print(\"[{}]] {}\".format(indeks.buku[indeks]))\n",
        "\n",
        "def insert_data():\n",
        "    buku_baru = input(\"judul buku: \")\n",
        "    buku.append(buku_baru)\n",
        "\n",
        "def edit_data():\n",
        "    show_data()\n",
        "    indeks = int(input(\"inputkan ida buku\"))\n",
        "    if indeks > len(buku):\n",
        "        print(\"id salah\")\n",
        "    else:\n",
        "        judul_baru = input(\"judul baru:\")\n",
        "        buku[indeks] = judul_baru\n",
        "\n",
        "def delete_data():\n",
        "    show_data()\n",
        "    indeks = int(input(\"inputkan ida buku\"))\n",
        "    if indeks > len(buku):\n",
        "        print(\"id salah\")\n",
        "    else:\n",
        "        buku.remove(buku[indeks])\n",
        "\n",
        "def show_menu():\n",
        "    print(\"\\n\")\n",
        "    print(\"----------MENU----------\")\n",
        "    print(\"[1] show data\")\n",
        "    print(\"[2] insert data\")\n",
        "    print(\"[3] edit data\")\n",
        "    print(\"[4] delete data\")\n",
        "    print(\"[5] exit\")\n",
        "\n",
        "    menu = input(\"PILIH MENU\")\n",
        "    print(\"\\n\")\n",
        "\n",
        "    if int(menu) == 1:\n",
        "        show_data()\n",
        "    elif int(menu) == 2:\n",
        "        insert_data()\n",
        "    elif int(menu) == 3:\n",
        "        edit_data()\n",
        "    elif int(menu) == 4:\n",
        "        delete_data()\n",
        "    elif int(menu) == 5:\n",
        "        exit()\n",
        "    else:\n",
        "        print(\"salah pilih!\")\n",
        "\n",
        "if __name__==\"__main__\":\n",
        "      while True:\n",
        "        show_menu()\n",
        "\n"
      ],
      "metadata": {
        "colab": {
          "base_uri": "https://localhost:8080/"
        },
        "id": "ZeEFw7C8nkWT",
        "outputId": "fb845466-b4dc-49ad-b6ae-945dd87656df"
      },
      "execution_count": null,
      "outputs": [
        {
          "output_type": "stream",
          "name": "stdout",
          "text": [
            "\n",
            "\n",
            "----------MENU----------\n",
            "[1] show data\n",
            "[2] insert data\n",
            "[3] edit data\n",
            "[4] delete data\n",
            "[5] exit\n",
            "PILIH MENU2\n",
            "\n",
            "\n",
            "judul buku: negeri 5 menara\n",
            "\n",
            "\n",
            "----------MENU----------\n",
            "[1] show data\n",
            "[2] insert data\n",
            "[3] edit data\n",
            "[4] delete data\n",
            "[5] exit\n"
          ]
        }
      ]
    }
  ]
}